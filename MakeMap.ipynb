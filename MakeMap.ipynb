{
 "cells": [
  {
   "cell_type": "code",
   "execution_count": null,
   "metadata": {},
   "outputs": [],
   "source": [
    "#DATA \n",
    "# to import data from google map - export map as KML then convert to geojson using an online converter\n",
    "# each category of points will be a file"
   ]
  },
  {
   "cell_type": "code",
   "execution_count": null,
   "metadata": {},
   "outputs": [],
   "source": [
    "# %pip install pygris\n",
    "# Spatial Analysis\n",
    "import geopandas as gpd\n",
    "import pandas as pd\n",
    "import matplotlib.pyplot as plt\n",
    "import folium\n",
    "import pygris as pygris\n",
    "import folium.plugins as fpl"
   ]
  },
  {
   "cell_type": "code",
   "execution_count": null,
   "metadata": {},
   "outputs": [],
   "source": [
    "# Vernon County Mapping"
   ]
  },
  {
   "cell_type": "code",
   "execution_count": null,
   "metadata": {},
   "outputs": [],
   "source": [
    "# map the county as a base"
   ]
  },
  {
   "cell_type": "code",
   "execution_count": null,
   "metadata": {},
   "outputs": [],
   "source": [
    "# add parks and reserves \n",
    "parks = gpd.read_file(\"Vernon_County_EV_Charger_Recommendations/Parks_and_Reserves.geojson\")\n",
    "# add libraries\n",
    "libraries = gpd.read_file(\"Vernon_County_EV_Charger_Recommendations/Libraries.geojson\")\n",
    "#add medical centers\n",
    "medical_centers = gpd.read_file(\"Vernon_County_EV_Charger_Recommendations/Hospitals_and_Clinics.geojson\")\n",
    "# add high schools\n",
    "city_HS = gpd.read_file(\"Vernon_County_EV_Charger_Recommendations/Vernon_Cty_High_Schools.geojson\")\n",
    "# add villages and cities w/o charges\n",
    "no_charger = gpd.read_file(\"Vernon_County_EV_Charger_Recommendations/Villages_and_Cities_without_charging.geojson\")\n",
    "# mark L2 chargers\n",
    "l2_charger = gpd.read_file(\"Vernon_County_EV_Charger_Recommendations/Existing_L2_Chargers.geojson\")\n",
    "# mark DC fast chargers\n",
    "dc_charger = gpd.read_file(\"Vernon_County_EV_Charger_Recommendations/Existing_DC_Fast_Chargers.geojson\")\n",
    "# mark potential sites\n",
    "potential_dc_charger = gpd.read_file(\"Vernon_County_EV_Charger_Recommendations/Potential_DC_Fast_Chargers.geojson\")"
   ]
  },
  {
   "cell_type": "code",
   "execution_count": null,
   "metadata": {},
   "outputs": [],
   "source": [
    "# wi_counties = pygris.counties(state=\"WI\", cb=True, cache=True)\n",
    "# wi_counties[wi_counties[\"NAME\"] == \"Vernon\"].plot()"
   ]
  },
  {
   "cell_type": "code",
   "execution_count": null,
   "metadata": {},
   "outputs": [],
   "source": [
    "#stitch the dfs together\n",
    "parks['color'] = \"brown\"\n",
    "parks['icon'] = \"tent\"\n",
    "libraries['color'] = \"blue\"\n",
    "libraries['icon'] = \"book\"\n",
    "medical_centers['icon'] = \"hospital\"\n",
    "medical_centers['color'] = \"red\"\n",
    "city_HS[\"color\"] = \"green\"\n",
    "city_HS[\"icon\"] = \"school\"\n",
    "l2_charger[\"color\"] = \"yellow\"\n",
    "l2_charger[\"icon\"] = \"plug\"\n",
    "dc_charger[\"color\"] = \"orange\"\n",
    "dc_charger[\"icon\"] = \"bolt\"\n",
    "no_charger[\"color\"] = \"gray\"\n",
    "no_charger[\"icon\"] = \"x\"\n",
    "potential_dc_charger[\"color\"] = \"lightblue\"\n",
    "potential_dc_charger[\"icon\"] = \"question\"\n",
    "\n",
    "provided_POIs = pd.concat([parks, libraries, medical_centers, city_HS, l2_charger, dc_charger, no_charger, potential_dc_charger], axis=0)"
   ]
  },
  {
   "cell_type": "code",
   "execution_count": null,
   "metadata": {},
   "outputs": [],
   "source": [
    "wi_counties = pygris.counties(state=\"WI\", cache=True)\n",
    "vernon_outline = wi_counties[wi_counties['NAME'] == \"Vernon\"]\n",
    "vernon_outline = vernon_outline.to_crs(epsg=4326)\n",
    "vernon_outline"
   ]
  },
  {
   "cell_type": "code",
   "execution_count": null,
   "metadata": {},
   "outputs": [],
   "source": [
    "#https://geopandas.org/en/stable/gallery/plotting_with_folium.html\n",
    "map_vernon = folium.Map([43.44476, -90.76852], zoom_start = 10)\n",
    "\n",
    "# Create a geometry list from the GeoDataFrame\n",
    "geo_df_list = [[point.xy[1][0], point.xy[0][0]] for point in provided_POIs.geometry]\n",
    "\n",
    "# Iterate through list and add a marker for each volcano, color-coded by its type.\n",
    "i = 0\n",
    "for coordinates in geo_df_list:\n",
    "    # icon = fpl.BeautifyIcon(\n",
    "    #     icon=provided_POIs.iloc[i]['icon'], border_color=provided_POIs.iloc[i]['color'], text_color=provided_POIs.iloc[i]['color'], icon_shape=\"square\", inner_icon_style='margin-top:0;'\n",
    "    # )\n",
    "    # Place the markers with the popup labels and data\n",
    "    folium.Marker(\n",
    "            location=coordinates,\n",
    "            popup=folium.Popup(\"Name: \"\n",
    "            + str(provided_POIs.iloc[i]['Name'])\n",
    "            + \"<br>\"\n",
    "            + \"Description: \"\n",
    "            + str(provided_POIs.iloc[i]['description'])),\n",
    "            # icon=icon\n",
    "            icon = folium.Icon(color=\"%s\" % provided_POIs.iloc[i]['color'])\n",
    "        ).add_to(map_vernon)\n",
    "    i = i + 1\n",
    "\n",
    "#add the county outline\n",
    "#https://geopandas.org/en/stable/gallery/polygon_plotting_with_folium.html\n",
    "for _, r in vernon_outline.iterrows():\n",
    "    # Without simplifying the representation of each borough,\n",
    "    # the map might not be displayed\n",
    "    sim_geo = gpd.GeoSeries(r[\"geometry\"]).simplify(tolerance=0.001)\n",
    "    geo_j = sim_geo.to_json()\n",
    "    geo_j = folium.GeoJson(data=geo_j, style_function=lambda x: {\"fillColor\": \"transparent\"})\n",
    "    # folium.Popup(r[\"BoroName\"]).add_to(geo_j)\n",
    "    geo_j.add_to(map_vernon)\n",
    "\n",
    "map_vernon"
   ]
  },
  {
   "cell_type": "code",
   "execution_count": null,
   "metadata": {},
   "outputs": [],
   "source": [
    "#work out the icons?\n",
    "#add jobs, demographics, housing?"
   ]
  }
 ],
 "metadata": {
  "interpreter": {
   "hash": "31f2aee4e71d21fbe5cf8b01ff0e069b9275f58929596ceb00d14d90e3e16cd6"
  },
  "kernelspec": {
   "display_name": "Python 3.9.6 64-bit",
   "language": "python",
   "name": "python3"
  },
  "language_info": {
   "codemirror_mode": {
    "name": "ipython",
    "version": 3
   },
   "file_extension": ".py",
   "mimetype": "text/x-python",
   "name": "python",
   "nbconvert_exporter": "python",
   "pygments_lexer": "ipython3",
   "version": "3.9.6"
  },
  "orig_nbformat": 4
 },
 "nbformat": 4,
 "nbformat_minor": 2
}

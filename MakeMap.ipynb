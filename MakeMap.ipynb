{
 "cells": [
  {
   "cell_type": "code",
   "execution_count": null,
   "metadata": {},
   "outputs": [],
   "source": [
    "#DATA \n",
    "# to import data from google map - export map as KML then convert to geojson using an online converter\n",
    "# each category of points will be a file\n",
    "# census data from downloaded csvs off of the data table explorers\n",
    "# converted to a more logical format by hand\n",
    "\n",
    "# %pip install --force-reinstall -v \"folium==0.17.0\"\n",
    "# %pip install geopandas\n",
    "# %pip install pygris"
   ]
  },
  {
   "cell_type": "code",
   "execution_count": null,
   "metadata": {},
   "outputs": [],
   "source": [
    "import geopandas as gpd\n",
    "import pandas as pd\n",
    "import matplotlib.pyplot as plt\n",
    "import folium\n",
    "import pygris as pygris\n",
    "import folium.plugins as fpl\n",
    "import numpy as np\n",
    "import branca.colormap as cm"
   ]
  },
  {
   "cell_type": "code",
   "execution_count": null,
   "metadata": {},
   "outputs": [],
   "source": [
    "# add parks and reserves \n",
    "parks = gpd.read_file(\"Vernon_County_EV_Charger_Recommendations/Parks_and_Reserves.geojson\")\n",
    "# add libraries\n",
    "libraries = gpd.read_file(\"Vernon_County_EV_Charger_Recommendations/Libraries.geojson\")\n",
    "#add medical centers\n",
    "medical_centers = gpd.read_file(\"Vernon_County_EV_Charger_Recommendations/Hospitals_and_Clinics.geojson\")\n",
    "# add high schools\n",
    "city_HS = gpd.read_file(\"Vernon_County_EV_Charger_Recommendations/Vernon_Cty_High_Schools.geojson\")\n",
    "# add villages and cities w/o charges\n",
    "no_charger = gpd.read_file(\"Vernon_County_EV_Charger_Recommendations/Villages_and_Cities_without_charging.geojson\")\n",
    "# mark L2 chargers\n",
    "l2_charger = gpd.read_file(\"Vernon_County_EV_Charger_Recommendations/Existing_L2_Chargers.geojson\")\n",
    "# mark DC fast chargers\n",
    "dc_charger = gpd.read_file(\"Vernon_County_EV_Charger_Recommendations/Existing_DC_Fast_Chargers.geojson\")\n",
    "# mark potential sites\n",
    "potential_dc_charger = gpd.read_file(\"Vernon_County_EV_Charger_Recommendations/Potential_DC_Fast_Chargers.geojson\")\n",
    "\n",
    "#stitch the dfs together\n",
    "parks['color'] = \"darkgreen\"\n",
    "parks['icon'] = \"tent\"\n",
    "libraries['color'] = \"blue\"\n",
    "libraries['icon'] = \"book\"\n",
    "medical_centers['icon'] = \"hospital\"\n",
    "medical_centers['color'] = \"darkred\"\n",
    "city_HS[\"color\"] = \"lightgreen\"\n",
    "city_HS[\"icon\"] = \"school\"\n",
    "l2_charger[\"color\"] = \"orange\"\n",
    "l2_charger[\"icon\"] = \"plug\"\n",
    "dc_charger[\"color\"] = \"lightred\"\n",
    "dc_charger[\"icon\"] = \"bolt\"\n",
    "no_charger[\"color\"] = \"gray\"\n",
    "no_charger[\"icon\"] = \"x\"\n",
    "potential_dc_charger[\"color\"] = \"lightblue\"\n",
    "potential_dc_charger[\"icon\"] = \"question\"\n",
    "\n",
    "# provided_POIs = pd.concat([parks, libraries, medical_centers, city_HS, l2_charger, dc_charger, no_charger, potential_dc_charger], axis=0)\n",
    "POIs = [parks, libraries, medical_centers, city_HS, l2_charger, dc_charger, no_charger, potential_dc_charger]\n",
    "names = [\"Parks\", \"Libraries\", \"Medical Centers\", \"High Schools\", \"L2 Chargers\", \"DC Chargers\", \"No Charger\", \"Potential DC Charger\"]"
   ]
  },
  {
   "cell_type": "code",
   "execution_count": null,
   "metadata": {},
   "outputs": [],
   "source": [
    "wi_counties = pygris.counties(state=\"WI\", cache=True)\n",
    "vernon_outline = wi_counties[wi_counties['NAME'] == \"Vernon\"]\n",
    "vernon_outline = vernon_outline.to_crs(epsg=4326)\n",
    "vernon_outline"
   ]
  },
  {
   "cell_type": "code",
   "execution_count": null,
   "metadata": {},
   "outputs": [],
   "source": [
    "#add census tract data\n",
    "census_income = pd.read_csv(\"census_income.csv\")\n",
    "census_pop = pd.read_csv(\"census_population.csv\")\n",
    "census_pop"
   ]
  },
  {
   "cell_type": "code",
   "execution_count": null,
   "metadata": {},
   "outputs": [],
   "source": [
    "tracts = pygris.tracts(state=\"WI\", cache=True)\n",
    "tracts = tracts.to_crs(epsg=4326)\n",
    "tracts = tracts[tracts[\"COUNTYFP\"] == \"123\"]\n",
    "tracts[\"NAME\"] = tracts[\"NAME\"].apply(int)\n",
    "tract_income = tracts.merge(census_income, how=\"left\", left_on=\"NAME\", right_on=\"Census Tract\")\n",
    "tract_in_pop = tract_income.merge(census_pop, how=\"left\", on=\"Census Tract\")\n",
    "tract_in_pop"
   ]
  },
  {
   "cell_type": "code",
   "execution_count": null,
   "metadata": {},
   "outputs": [],
   "source": [
    "#https://geopandas.org/en/stable/gallery/plotting_with_folium.html\n",
    "map_vernon = folium.Map([43.44476, -90.76852], zoom_start = 10,tiles='https://tile.openstreetmap.org/{z}/{x}/{y}.png', attr='My Data Attribution')\n",
    "\n",
    "#add markers from Google Map\n",
    "x = 0\n",
    "for poi in POIs:\n",
    "    # Create a geometry list from the GeoDataFrame\n",
    "    geo_df_list = [[point.xy[1][0], point.xy[0][0]] for point in poi.geometry]\n",
    "    fg = folium.FeatureGroup(name=names[x], show=\"True\").add_to(map_vernon)\n",
    "\n",
    "    x = x + 1\n",
    "    \n",
    "    i=0\n",
    "    for coordinates in geo_df_list:\n",
    "        # icon = fpl.BeautifyIcon(\n",
    "        #     icon=provided_POIs.iloc[i]['icon'], border_color=provided_POIs.iloc[i]['color'], text_color=provided_POIs.iloc[i]['color'], icon_shape=\"square\", inner_icon_style='margin-top:0;'\n",
    "        # )\n",
    "        # Place the markers with the popup labels and data\n",
    "        description = str(poi.iloc[i]['description']) if \"description\" in poi.iloc[i].keys() else \"\"\n",
    "        folium.Marker(\n",
    "                location=coordinates,\n",
    "                popup=folium.Popup(\"Name: \"\n",
    "                + str(poi.iloc[i]['Name'])\n",
    "                + \"<br>\"\n",
    "                + \"Description: \"\n",
    "                + str(description)),\n",
    "                # icon=icon\n",
    "                icon = folium.Icon(color=\"%s\" % poi.iloc[i]['color'])\n",
    "            ).add_to(fg)\n",
    "        i = i + 1\n",
    "\n",
    "#add the county line\n",
    "fg = folium.FeatureGroup(name=\"County Line\", show=\"True\").add_to(map_vernon)\n",
    "#add the county outline\n",
    "#https://geopandas.org/en/stable/gallery/polygon_plotting_with_folium.html\n",
    "for _, r in vernon_outline.iterrows():\n",
    "    sim_geo = gpd.GeoSeries(r[\"geometry\"]).simplify(tolerance=0.001)\n",
    "    geo_j = sim_geo.to_json()\n",
    "    geo_j = folium.GeoJson(data=geo_j, style_function=lambda x: {\"fillColor\": \"transparent\"})\n",
    "    geo_j.add_to(fg)\n",
    "\n",
    "values = tract_in_pop[\"Median Household income (dollars)\"].unique()\n",
    "cmap = cm.linear.RdPu_05.scale(min(values), max(values))\n",
    "\n",
    "#add the census demographics\n",
    "fg = folium.FeatureGroup(name=\"Census Demographics\", show=\"True\").add_to(map_vernon)\n",
    "for _, r in tract_in_pop.iterrows():\n",
    "  inc = r[\"Median Household income (dollars)\"]\n",
    "  sim_geo = gpd.GeoSeries(r[\"geometry\"]).simplify(tolerance=0.001)\n",
    "  geo_j = sim_geo.to_json()\n",
    "  geo_j = folium.GeoJson(data=geo_j, style_function=lambda x, inc=inc: {\n",
    "    'fillColor': cmap(inc)\n",
    "  })\n",
    "  folium.Popup(\"Inc: \" + str(r[\"Median Household income (dollars)\"]) + \" Pop: \" + str(r[\"Population\"]) ).add_to(geo_j)\n",
    "  geo_j.add_to(fg)\n",
    "\n",
    "#add layer controls\n",
    "folium.LayerControl().add_to(map_vernon)\n",
    "map_vernon"
   ]
  },
  {
   "cell_type": "code",
   "execution_count": 78,
   "metadata": {},
   "outputs": [],
   "source": [
    "#work out the icons?\n",
    "#add jobs, demographics, housing?\n",
    "#FAILED NLCD LANDUSE EXPERIMENT\n",
    "\n",
    "# vernon_outline.index = [\"Vernon\"]\n",
    "# lulc = gh.nlcd_bygeom(vernon_outline, 100, years={\"cover\": [2021]})\n",
    "# fig, (ax1, ax2) = plt.subplots(1, 2, figsize=(9, 4))\n",
    "\n",
    "# cmap, norm, levels = gh.plot.cover_legends()\n",
    "# cover = lulc[\"Vernon\"].cover_2021\n",
    "# cover\n",
    "# cover.where(cover < 127).plot(ax=ax1, cmap=cmap, levels=levels, cbar_kwargs={\"ticks\": levels[:-1]})\n",
    "# ax1.set_title(\"Land Use/Land Cover 2019\")\n",
    "# ax1.set_axis_off()\n",
    "# cover_df = cover.to_dataframe().reset_index()\n",
    "# cover_df[\"color\"] = cover_df[\"cover_2021\"].apply(cmap)\n",
    "# geo_cover_df = gpd.GeoDataFrame(\n",
    "#     cover_df, geometry=gpd.points_from_xy(cover_df.y, cover_df.x), crs=\"EPSG:4326\"\n",
    "# )\n",
    "# geo_cover_df\n",
    "# geo_cover_df = geo_cover_df.to_crs(espg=3395)\n",
    "# buffer = geo_cover_df.buffer(30, cap_style=3)\n",
    "# for _, r in cover_df.iterrows():\n",
    "#     sim_geo = gpd.GeoSeries(r[\"geometry\"]).simplify(tolerance=0.001)\n",
    "#     geo_j = sim_geo.to_json()\n",
    "#     geo_j = folium.GeoJson(data=geo_j, style_function=lambda x: {\"fillColor\": \"transparent\"})\n",
    "#     geo_j.add_to(map_vernon)"
   ]
  },
  {
   "cell_type": "code",
   "execution_count": 79,
   "metadata": {},
   "outputs": [],
   "source": [
    "map_vernon.save(\"VernonCO_chargerMap.html\")"
   ]
  }
 ],
 "metadata": {
  "interpreter": {
   "hash": "31f2aee4e71d21fbe5cf8b01ff0e069b9275f58929596ceb00d14d90e3e16cd6"
  },
  "kernelspec": {
   "display_name": "Python 3.9.6 64-bit",
   "language": "python",
   "name": "python3"
  },
  "language_info": {
   "codemirror_mode": {
    "name": "ipython",
    "version": 3
   },
   "file_extension": ".py",
   "mimetype": "text/x-python",
   "name": "python",
   "nbconvert_exporter": "python",
   "pygments_lexer": "ipython3",
   "version": "3.9.6"
  },
  "orig_nbformat": 4
 },
 "nbformat": 4,
 "nbformat_minor": 2
}
